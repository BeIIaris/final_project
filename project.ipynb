{
 "cells": [
  {
   "cell_type": "code",
   "execution_count": 1,
   "metadata": {},
   "outputs": [],
   "source": [
    "#测试heap\n",
    "import heap\n",
    "def cmp(x1,x2):\n",
    "    return x1<x2\n",
    "a=heap.heap(cmp)"
   ]
  },
  {
   "cell_type": "code",
   "execution_count": 2,
   "metadata": {},
   "outputs": [
    {
     "name": "stdout",
     "output_type": "stream",
     "text": [
      "-1\n",
      "1\n",
      "-13213\n",
      "1\n"
     ]
    }
   ],
   "source": [
    "a.push(1)\n",
    "a.push(-1)\n",
    "a.push(3)\n",
    "print(a.top())\n",
    "a.pop()\n",
    "print(a.top())\n",
    "a.push(12332)\n",
    "a.push(-13213)\n",
    "print(a.top())\n",
    "a.pop()\n",
    "print(a.top())"
   ]
  },
  {
   "cell_type": "code",
   "execution_count": 3,
   "metadata": {},
   "outputs": [
    {
     "data": {
      "text/plain": [
       "3"
      ]
     },
     "execution_count": 3,
     "metadata": {},
     "output_type": "execute_result"
    }
   ],
   "source": [
    "#测试Floyd\n",
    "#初始化\n",
    "import floyd\n",
    "example=floyd.floyd(4)\n",
    "#输入边的信息，双向边\n",
    "example.push_side(1,2,9)\n",
    "example.push_side(1,3,1)\n",
    "example.push_side(1,4,6)\n",
    "example.push_side(2,3,2)\n",
    "example.push_side(2,4,7)\n",
    "example.push_side(3,4,5)\n",
    "#输出\n",
    "example.calculate()\n",
    "example.get_ans(1,2)"
   ]
  },
  {
   "cell_type": "code",
   "execution_count": 4,
   "metadata": {},
   "outputs": [
    {
     "data": {
      "text/plain": [
       "3"
      ]
     },
     "execution_count": 4,
     "metadata": {},
     "output_type": "execute_result"
    }
   ],
   "source": [
    "#测试dijkstra\n",
    "#初始化\n",
    "import dijkstra\n",
    "example=dijkstra.dijkstra(4)\n",
    "#输入边的信息，双向边\n",
    "example.push_side(1,2,9)\n",
    "example.push_side(1,3,1)\n",
    "example.push_side(1,4,6)\n",
    "example.push_side(2,3,2)\n",
    "example.push_side(2,4,7)\n",
    "example.push_side(3,4,5)\n",
    "#输出\n",
    "example.calculate(1)\n",
    "example.get_ans(2)"
   ]
  },
  {
   "cell_type": "code",
   "execution_count": 5,
   "metadata": {},
   "outputs": [
    {
     "name": "stdout",
     "output_type": "stream",
     "text": [
      "3\n",
      "3\n"
     ]
    }
   ],
   "source": [
    "#测试spfa\n",
    "#初始化\n",
    "import spfa\n",
    "example=spfa.spfa(4)\n",
    "#输入边的信息，双向边\n",
    "example.push_side(1,2,9)\n",
    "example.push_side(1,3,1)\n",
    "example.push_side(1,4,6)\n",
    "example.push_side(2,3,2)\n",
    "example.push_side(2,4,7)\n",
    "example.push_side(3,4,5)\n",
    "#输出\n",
    "example.calculate(1)\n",
    "print(example.get_ans(2))\n",
    "example.calculate(2)\n",
    "print(example.get_ans(1))"
   ]
  },
  {
   "cell_type": "code",
   "execution_count": 6,
   "metadata": {},
   "outputs": [
    {
     "data": {
      "text/plain": [
       "1"
      ]
     },
     "execution_count": 6,
     "metadata": {},
     "output_type": "execute_result"
    }
   ],
   "source": [
    "#测试dijkstra对负环或负权边的能力\n",
    "#1-3-1 一圈的和是-2\n",
    "import dijkstra\n",
    "example=dijkstra.dijkstra(4)\n",
    "example.push_side(1,2,9)\n",
    "example.push_side(1,3,-1)\n",
    "example.push_side(1,4,6)\n",
    "example.push_side(2,3,2)\n",
    "example.push_side(2,4,7)\n",
    "example.push_side(3,4,5)\n",
    "example.calculate(1)\n",
    "example.get_ans(2)\n",
    "#通过不断走负权1-3-1通道，值不断减小，实际答案是负无穷"
   ]
  },
  {
   "cell_type": "code",
   "execution_count": 7,
   "metadata": {},
   "outputs": [
    {
     "data": {
      "text/plain": [
       "'Negative circle exists'"
      ]
     },
     "execution_count": 7,
     "metadata": {},
     "output_type": "execute_result"
    }
   ],
   "source": [
    "#测试spfa对负环或负权边的能力\n",
    "#1-3-1 一圈的和是-2\n",
    "import spfa\n",
    "example=spfa.spfa(4)\n",
    "example.push_side(1,2,9)\n",
    "example.push_side(1,3,-1)\n",
    "example.push_side(1,4,6)\n",
    "example.push_side(2,3,2)\n",
    "example.push_side(2,4,7)\n",
    "example.push_side(3,4,5)\n",
    "example.calculate(1)\n",
    "example.get_ans(2)"
   ]
  }
 ],
 "metadata": {
  "kernelspec": {
   "display_name": "Python 3",
   "language": "python",
   "name": "python3"
  },
  "language_info": {
   "codemirror_mode": {
    "name": "ipython",
    "version": 3
   },
   "file_extension": ".py",
   "mimetype": "text/x-python",
   "name": "python",
   "nbconvert_exporter": "python",
   "pygments_lexer": "ipython3",
   "version": "3.10.8"
  },
  "orig_nbformat": 4
 },
 "nbformat": 4,
 "nbformat_minor": 2
}
